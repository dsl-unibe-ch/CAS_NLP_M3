{
 "cells": [
  {
   "cell_type": "markdown",
   "id": "652603bc-e439-484f-83a1-22dbbcc54379",
   "metadata": {},
   "source": [
    "<b>Create tensors in PyTorch. Based on the book \"Natural Language Processing with PyTorch\" 2019, Rao & McMahan. Markdown inside quatation marks are direct quatations from the book</b>\n"
   ]
  },
  {
   "cell_type": "markdown",
   "id": "733f62a9-20fd-4831-b754-b77dcb560a25",
   "metadata": {},
   "source": [
    "![Local Image](tensors.png)"
   ]
  },
  {
   "cell_type": "code",
   "execution_count": 4,
   "id": "56ef6718-bb57-4d7d-8452-7cb19f748579",
   "metadata": {},
   "outputs": [],
   "source": [
    "import torch\n",
    "import numpy as np\n",
    "\n",
    "\n",
    "#helper function\n",
    "def describe(x):\n",
    "    print(f\"Type: {x.type()}\")\n",
    "    print(f\"Shape/size: {x.shape}\")\n",
    "    print(f\"Content\\n: {x}\")"
   ]
  },
  {
   "cell_type": "code",
   "execution_count": 5,
   "id": "c8c8c2a9-e367-4bab-a4ef-be0eee516abf",
   "metadata": {},
   "outputs": [
    {
     "name": "stdout",
     "output_type": "stream",
     "text": [
      "Type: torch.FloatTensor\n",
      "Shape/size: torch.Size([2, 3])\n",
      "Content\n",
      ": tensor([[-1.4073e-31,  4.5825e-41, -1.4073e-31],\n",
      "        [ 4.5825e-41,  0.0000e+00,  0.0000e+00]])\n"
     ]
    }
   ],
   "source": [
    "#Create tensor in torch\n",
    "\n",
    "x = torch.Tensor(2,3)\n",
    "describe(x)"
   ]
  },
  {
   "cell_type": "code",
   "execution_count": 6,
   "id": "19f607d7-7138-48c3-8a57-824cd9701a8f",
   "metadata": {},
   "outputs": [
    {
     "name": "stdout",
     "output_type": "stream",
     "text": [
      "Type: torch.FloatTensor\n",
      "Shape/size: torch.Size([2, 3])\n",
      "Content\n",
      ": tensor([[0.5840, 0.8180, 0.3804],\n",
      "        [0.9528, 0.6404, 0.1891]])\n",
      "Type: torch.FloatTensor\n",
      "Shape/size: torch.Size([2, 3])\n",
      "Content\n",
      ": tensor([[ 0.6655,  0.1428,  0.0805],\n",
      "        [ 1.1435, -0.9616,  0.9458]])\n"
     ]
    }
   ],
   "source": [
    "# create tensor with random values from uniform distribution or standard normal distribution\n",
    "describe(torch.rand(2, 3)) # uniform random\n",
    "describe(torch.randn(2, 3)) # random normal"
   ]
  },
  {
   "cell_type": "code",
   "execution_count": 7,
   "id": "af71ec0d-a077-4b42-8f1a-814ba9bb4905",
   "metadata": {},
   "outputs": [
    {
     "name": "stdout",
     "output_type": "stream",
     "text": [
      "Type: torch.FloatTensor\n",
      "Shape/size: torch.Size([2, 3])\n",
      "Content\n",
      ": tensor([[0., 0., 0.],\n",
      "        [0., 0., 0.]])\n",
      "Type: torch.FloatTensor\n",
      "Shape/size: torch.Size([2, 3])\n",
      "Content\n",
      ": tensor([[1., 1., 1.],\n",
      "        [1., 1., 1.]])\n",
      "Type: torch.FloatTensor\n",
      "Shape/size: torch.Size([2, 3])\n",
      "Content\n",
      ": tensor([[5., 5., 5.],\n",
      "        [5., 5., 5.]])\n"
     ]
    }
   ],
   "source": [
    "# Create tensors filled with the same scaler\n",
    "describe(torch.zeros(2, 3))\n",
    "x = torch.ones(2, 3)\n",
    "describe(x)\n",
    "x.fill_(5)\n",
    "describe(x)"
   ]
  },
  {
   "cell_type": "code",
   "execution_count": 9,
   "id": "a27006b9-9d32-4fcb-ad37-fb5872bbd0be",
   "metadata": {},
   "outputs": [
    {
     "name": "stdout",
     "output_type": "stream",
     "text": [
      "Type: torch.IntTensor\n",
      "Shape/size: torch.Size([2, 4])\n",
      "Content\n",
      ": tensor([[0, 0, 0, 0],\n",
      "        [0, 0, 0, 0]], dtype=torch.int32)\n",
      "Type: torch.ByteTensor\n",
      "Shape/size: torch.Size([2, 3])\n",
      "Content\n",
      ": tensor([[0, 0, 0],\n",
      "        [0, 0, 0]], dtype=torch.uint8)\n"
     ]
    }
   ],
   "source": [
    "#Can specify data type\n",
    "\n",
    "describe(torch.zeros([2, 4], dtype=torch.int32))\n",
    "describe(torch.zeros([2, 3], dtype=torch.uint8))"
   ]
  },
  {
   "cell_type": "code",
   "execution_count": 10,
   "id": "d1484afc-ab33-4d57-80c7-86fea34efab3",
   "metadata": {},
   "outputs": [
    {
     "name": "stdout",
     "output_type": "stream",
     "text": [
      "Type: torch.FloatTensor\n",
      "Shape/size: torch.Size([2, 3])\n",
      "Content\n",
      ": tensor([[1., 2., 3.],\n",
      "        [4., 5., 6.]])\n"
     ]
    }
   ],
   "source": [
    "# We can create a tensor with python list\n",
    "\n",
    "x = torch.Tensor([[1, 2, 3],\n",
    "                [4, 5, 6]])\n",
    "describe(x)"
   ]
  },
  {
   "cell_type": "code",
   "execution_count": 11,
   "id": "5be0eeee-f476-445d-888d-62dd382f5756",
   "metadata": {},
   "outputs": [
    {
     "name": "stdout",
     "output_type": "stream",
     "text": [
      "[[0.63791304 0.36993467 0.24219537]\n",
      " [0.79726727 0.67657818 0.27104042]]\n"
     ]
    }
   ],
   "source": [
    "npy = np.random.rand(2, 3)\n",
    "print(npy)"
   ]
  },
  {
   "cell_type": "code",
   "execution_count": 13,
   "id": "0dc52464-cefe-4db7-9cdf-e8abd814a903",
   "metadata": {},
   "outputs": [
    {
     "name": "stdout",
     "output_type": "stream",
     "text": [
      "Type: torch.DoubleTensor\n",
      "Shape/size: torch.Size([2, 3])\n",
      "Content\n",
      ": tensor([[0.6379, 0.3699, 0.2422],\n",
      "        [0.7973, 0.6766, 0.2710]], dtype=torch.float64)\n"
     ]
    }
   ],
   "source": [
    "describe(torch.from_numpy(npy))"
   ]
  },
  {
   "cell_type": "markdown",
   "id": "3192a86e-235f-4eb0-a444-cdf475ed14fa",
   "metadata": {},
   "source": [
    "<b>\"Each tensor has an associated type and size. The default tensor type when you use the\n",
    "torch.Tensor constructor is torch.FloatTensor. However, you can convert a tensor to a\n",
    "different type (float, long, double, etc.) by specifying it at initialization or later using one of the\n",
    "typecasting methods.\" From the Natural Language Processing with Pytorch, 2019 book</b>"
   ]
  },
  {
   "cell_type": "code",
   "execution_count": 14,
   "id": "105d5de1-ca33-4851-b90f-81837f25f3be",
   "metadata": {},
   "outputs": [
    {
     "name": "stdout",
     "output_type": "stream",
     "text": [
      "Type: torch.FloatTensor\n",
      "Shape/size: torch.Size([2, 3])\n",
      "Content\n",
      ": tensor([[1., 2., 3.],\n",
      "        [4., 5., 6.]])\n",
      "-------------------------------------\n",
      "Type: torch.LongTensor\n",
      "Shape/size: torch.Size([2, 3])\n",
      "Content\n",
      ": tensor([[1, 2, 3],\n",
      "        [4, 5, 6]])\n",
      "-------------------------------------\n",
      "Type: torch.LongTensor\n",
      "Shape/size: torch.Size([2, 3])\n",
      "Content\n",
      ": tensor([[1, 2, 3],\n",
      "        [4, 5, 7]])\n",
      "-------------------------------------\n",
      "Type: torch.FloatTensor\n",
      "Shape/size: torch.Size([2, 3])\n",
      "Content\n",
      ": tensor([[1., 2., 3.],\n",
      "        [4., 5., 7.]])\n"
     ]
    }
   ],
   "source": [
    "x = torch.FloatTensor([[1, 2, 3],\n",
    "                      [4, 5, 6]])\n",
    "\n",
    "describe(x)\n",
    "\n",
    "print(\"-------------------------------------\")\n",
    "x = x.long()\n",
    "describe(x)\n",
    "\n",
    "print(\"-------------------------------------\")\n",
    "\n",
    "x = torch.tensor([[1, 2, 3],\n",
    "                 [4, 5, 7]], dtype=torch.int64)\n",
    "\n",
    "describe(x)\n",
    "\n",
    "print(\"-------------------------------------\")\n",
    "\n",
    "x = x.float()\n",
    "describe(x)"
   ]
  },
  {
   "cell_type": "markdown",
   "id": "b4a33c93-68b3-4952-bfc8-a44b89ca36d0",
   "metadata": {},
   "source": [
    "<b> \"We use the shape property and size() method of a tensor object to access the measurements of its\n",
    "dimensions.\"</b>"
   ]
  },
  {
   "cell_type": "markdown",
   "id": "197c7448-2bd1-48d0-8af1-1d5d3e48ffe3",
   "metadata": {},
   "source": [
    "<b> Tensor Operations </b>"
   ]
  },
  {
   "cell_type": "code",
   "execution_count": 15,
   "id": "d303cc8d-37e1-4897-8207-ac131e4a0355",
   "metadata": {},
   "outputs": [
    {
     "name": "stdout",
     "output_type": "stream",
     "text": [
      "Type: torch.FloatTensor\n",
      "Shape/size: torch.Size([2, 3])\n",
      "Content\n",
      ": tensor([[-1.6961, -0.3034, -0.6214],\n",
      "        [ 1.4921, -2.1412, -1.5396]])\n",
      "Type: torch.FloatTensor\n",
      "Shape/size: torch.Size([2, 3])\n",
      "Content\n",
      ": tensor([[-3.3921, -0.6067, -1.2429],\n",
      "        [ 2.9841, -4.2823, -3.0793]])\n"
     ]
    }
   ],
   "source": [
    "# Addition using add()\n",
    "\n",
    "x = torch.randn(2, 3)\n",
    "describe(x)\n",
    "\n",
    "describe(torch.add(x, x))"
   ]
  },
  {
   "cell_type": "code",
   "execution_count": 16,
   "id": "02322b31-116b-448b-b50a-ccf2da22fb29",
   "metadata": {},
   "outputs": [
    {
     "name": "stdout",
     "output_type": "stream",
     "text": [
      "Type: torch.FloatTensor\n",
      "Shape/size: torch.Size([2, 3])\n",
      "Content\n",
      ": tensor([[-3.3921, -0.6067, -1.2429],\n",
      "        [ 2.9841, -4.2823, -3.0793]])\n"
     ]
    }
   ],
   "source": [
    "describe(x + x)"
   ]
  },
  {
   "cell_type": "code",
   "execution_count": 17,
   "id": "bffd8a90-2536-450d-9801-8baa05163181",
   "metadata": {},
   "outputs": [
    {
     "name": "stdout",
     "output_type": "stream",
     "text": [
      "Type: torch.LongTensor\n",
      "Shape/size: torch.Size([6])\n",
      "Content\n",
      ": tensor([0, 1, 2, 3, 4, 5])\n"
     ]
    }
   ],
   "source": [
    "#Create a tensor with values starting 0 to and not including 6\n",
    "x = torch.arange(6)\n",
    "describe(x)"
   ]
  },
  {
   "cell_type": "code",
   "execution_count": 20,
   "id": "fae12673-4143-449f-a068-20f9202cda66",
   "metadata": {},
   "outputs": [
    {
     "name": "stdout",
     "output_type": "stream",
     "text": [
      "Type: torch.LongTensor\n",
      "Shape/size: torch.Size([2, 3])\n",
      "Content\n",
      ": tensor([[0, 1, 2],\n",
      "        [3, 4, 5]])\n"
     ]
    }
   ],
   "source": [
    "#Reshape the tensor we created into a new dimension with the same values\n",
    "\n",
    "x = x.view(2, 3)\n",
    "describe(x)"
   ]
  },
  {
   "cell_type": "code",
   "execution_count": 21,
   "id": "5188444f-cf08-4ff0-a01e-1a7dbec6ddf1",
   "metadata": {},
   "outputs": [
    {
     "name": "stdout",
     "output_type": "stream",
     "text": [
      "Type: torch.LongTensor\n",
      "Shape/size: torch.Size([3])\n",
      "Content\n",
      ": tensor([3, 5, 7])\n",
      "Type: torch.LongTensor\n",
      "Shape/size: torch.Size([2])\n",
      "Content\n",
      ": tensor([ 3, 12])\n"
     ]
    }
   ],
   "source": [
    "describe(torch.sum(x, dim=0))\n",
    "describe(torch.sum(x, dim=1))"
   ]
  },
  {
   "cell_type": "code",
   "execution_count": 22,
   "id": "25009631-6637-46b9-8b5e-6de318138bfc",
   "metadata": {},
   "outputs": [
    {
     "name": "stdout",
     "output_type": "stream",
     "text": [
      "Type: torch.LongTensor\n",
      "Shape/size: torch.Size([3, 2])\n",
      "Content\n",
      ": tensor([[0, 3],\n",
      "        [1, 4],\n",
      "        [2, 5]])\n"
     ]
    }
   ],
   "source": [
    "# We can also transpose the tensor\n",
    "describe(torch.transpose(x, 0, 1))"
   ]
  },
  {
   "cell_type": "markdown",
   "id": "ed4d9188-b7d1-4be4-ba34-ad7db6faebed",
   "metadata": {},
   "source": [
    "<b> Indexing, slicing, joining </b>"
   ]
  },
  {
   "cell_type": "code",
   "execution_count": 23,
   "id": "2a2eebe3-8d4c-433a-8cb3-f6a44d8d7288",
   "metadata": {},
   "outputs": [
    {
     "name": "stdout",
     "output_type": "stream",
     "text": [
      "Type: torch.LongTensor\n",
      "Shape/size: torch.Size([2, 3])\n",
      "Content\n",
      ": tensor([[0, 1, 2],\n",
      "        [3, 4, 5]])\n"
     ]
    }
   ],
   "source": [
    "x = torch.arange(6).view(2,3)\n",
    "describe(x)"
   ]
  },
  {
   "cell_type": "code",
   "execution_count": 24,
   "id": "7bdba01e-e801-48e6-8eb2-d2eabbb180fd",
   "metadata": {},
   "outputs": [
    {
     "name": "stdout",
     "output_type": "stream",
     "text": [
      "Type: torch.LongTensor\n",
      "Shape/size: torch.Size([3])\n",
      "Content\n",
      ": tensor([3, 4, 5])\n",
      "-------------------------------------\n",
      "Type: torch.LongTensor\n",
      "Shape/size: torch.Size([1, 2])\n",
      "Content\n",
      ": tensor([[0, 1]])\n",
      "-------------------------------------\n",
      "Type: torch.LongTensor\n",
      "Shape/size: torch.Size([])\n",
      "Content\n",
      ": 1\n"
     ]
    }
   ],
   "source": [
    "describe(x[1])\n",
    "print(\"-------------------------------------\")\n",
    "describe(x[:1,:2])\n",
    "print(\"-------------------------------------\")\n",
    "describe(x[0,1])\n",
    "\n"
   ]
  },
  {
   "cell_type": "code",
   "execution_count": 25,
   "id": "96974c48-02dd-49dd-915f-e4691cbfa503",
   "metadata": {},
   "outputs": [
    {
     "name": "stdout",
     "output_type": "stream",
     "text": [
      "tensor([[0, 1, 2],\n",
      "        [3, 4, 5]])\n",
      "Type: torch.LongTensor\n",
      "Shape/size: torch.Size([4, 3])\n",
      "Content\n",
      ": tensor([[0, 1, 2],\n",
      "        [3, 4, 5],\n",
      "        [0, 1, 2],\n",
      "        [3, 4, 5]])\n",
      "-------------------------------------\n",
      "Type: torch.LongTensor\n",
      "Shape/size: torch.Size([2, 6])\n",
      "Content\n",
      ": tensor([[0, 1, 2, 0, 1, 2],\n",
      "        [3, 4, 5, 3, 4, 5]])\n",
      "-------------------------------------\n",
      "Type: torch.LongTensor\n",
      "Shape/size: torch.Size([2, 2, 3])\n",
      "Content\n",
      ": tensor([[[0, 1, 2],\n",
      "         [3, 4, 5]],\n",
      "\n",
      "        [[0, 1, 2],\n",
      "         [3, 4, 5]]])\n"
     ]
    }
   ],
   "source": [
    "#concatenating tensors\n",
    "\n",
    "x = torch.arange(6).view(2,3)\n",
    "print(x)\n",
    "\n",
    "describe(torch.cat([x,x], dim=0))\n",
    "\n",
    "print(\"-------------------------------------\")\n",
    "describe(torch.cat([x, x], dim=1))\n",
    "\n",
    "print(\"-------------------------------------\")\n",
    "describe(torch.stack([x,x]))"
   ]
  },
  {
   "cell_type": "code",
   "execution_count": 26,
   "id": "3793f521-ba83-418c-add6-a59f02ba9ca8",
   "metadata": {},
   "outputs": [
    {
     "name": "stdout",
     "output_type": "stream",
     "text": [
      "Type: torch.FloatTensor\n",
      "Shape/size: torch.Size([2, 3])\n",
      "Content\n",
      ": tensor([[0., 1., 2.],\n",
      "        [3., 4., 5.]])\n",
      "-------------------------------------\n",
      "Type: torch.FloatTensor\n",
      "Shape/size: torch.Size([3, 2])\n",
      "Content\n",
      ": tensor([[1., 2.],\n",
      "        [1., 2.],\n",
      "        [1., 2.]])\n",
      "-------------------------------------\n",
      "Type: torch.FloatTensor\n",
      "Shape/size: torch.Size([2, 2])\n",
      "Content\n",
      ": tensor([[ 3.,  6.],\n",
      "        [12., 24.]])\n"
     ]
    }
   ],
   "source": [
    "# linear algebra operations on tesnors (multiplication, inverse and trace)\n",
    "\n",
    "x1 = torch.arange(6).view(2,3).float()\n",
    "describe(x1)\n",
    "print(\"-------------------------------------\")\n",
    "\n",
    "x2 = torch.ones(3,2)\n",
    "x2[:, 1] += 1 # select all rows, and then select only the column in index 1, then add 1 to all the rows in column of index 1\n",
    "describe(x2)\n",
    "\n",
    "print(\"-------------------------------------\")\n",
    "\n",
    "describe(torch.mm(x1, x2))"
   ]
  },
  {
   "cell_type": "code",
   "execution_count": 33,
   "id": "0086dfa1-03d5-4ca3-ac94-4933af35621b",
   "metadata": {},
   "outputs": [
    {
     "name": "stdout",
     "output_type": "stream",
     "text": [
      "Type: torch.FloatTensor\n",
      "Shape/size: torch.Size([2, 2])\n",
      "Content\n",
      ": tensor([[1., 1.],\n",
      "        [1., 1.]], requires_grad=True)\n",
      "True\n",
      "Type: torch.FloatTensor\n",
      "Shape/size: torch.Size([2, 2])\n",
      "Content\n",
      ": tensor([[21., 21.],\n",
      "        [21., 21.]], grad_fn=<AddBackward0>)\n",
      "True\n",
      "Type: torch.FloatTensor\n",
      "Shape/size: torch.Size([])\n",
      "Content\n",
      ": 21.0\n",
      "False\n",
      "tensor([[2.2500, 2.2500],\n",
      "        [2.2500, 2.2500]])\n"
     ]
    }
   ],
   "source": [
    "# creating tensors for gradient bookepping \n",
    "\n",
    "x = torch.ones(2,2, requires_grad=True) # (requires_grad=True) track operations on this tensor so it can compute gradiet during backpropagation\n",
    "describe(x)\n",
    "print(x.grad is None) #he gradients will be stored in x.grad after calling backward() \n",
    "\n",
    "#At this point, x.grad is None because no backward pass has occurred yet, so no gradients have been calculated.\n",
    "\n",
    "\n",
    "y = (x + 2) * (x + 5) + 3 #A series of operations is performed on x, yielding a new tensor y.\n",
    "\n",
    "describe(y)\n",
    "print(x.grad is None) #Even after the operations on x, no gradients are computed yet because backward() hasn't been called.\n",
    "\n",
    "z = y.mean() #The mean of all elements in y is computed and stored in z.\n",
    "describe(z)\n",
    "\n",
    "z.backward() #backward() computes the gradients of z (which is the mean of y) with respect to x.\n",
    "print(x.grad is None)\n",
    "print(x.grad)"
   ]
  },
  {
   "cell_type": "markdown",
   "id": "f2b8b3f9-ca1f-41e7-aa7c-09da1f1d60e2",
   "metadata": {},
   "source": [
    "<b>CUDA Tensors: \n",
    "When doing linear algebra\n",
    "operations, it might make sense to utilize a GPU. If you have one of course :). You need to mocve tonsors to the GPU's memory. We need CUDA in order to have access to the GPU memory for pytorch operations\n",
    "</b>"
   ]
  },
  {
   "cell_type": "code",
   "execution_count": 29,
   "id": "cbebda43-0dcc-43e4-a508-b59f8fb52ef6",
   "metadata": {},
   "outputs": [
    {
     "name": "stdout",
     "output_type": "stream",
     "text": [
      "True\n",
      "cuda\n"
     ]
    }
   ],
   "source": [
    "# check if cuda is available\n",
    "\n",
    "print(torch.cuda.is_available())\n",
    "\n",
    "# easy way to select device\n",
    "device = torch.device(\"cuda\" if torch.cuda.is_available() else \"cpu\")\n",
    "print(device)"
   ]
  },
  {
   "cell_type": "code",
   "execution_count": 30,
   "id": "7fe30a8f-5454-45e0-a549-05df48126bd9",
   "metadata": {},
   "outputs": [
    {
     "name": "stdout",
     "output_type": "stream",
     "text": [
      "Type: torch.cuda.FloatTensor\n",
      "Shape/size: torch.Size([3, 3])\n",
      "Content\n",
      ": tensor([[0.1010, 0.5680, 0.6737],\n",
      "        [0.0625, 0.1939, 0.4650],\n",
      "        [0.4695, 0.8991, 0.3435]], device='cuda:0')\n"
     ]
    }
   ],
   "source": [
    "# then we can use to(device) to transfer tensors to GPU\n",
    "\n",
    "x = torch.rand(3,3).to(device)\n",
    "describe(x)"
   ]
  },
  {
   "cell_type": "code",
   "execution_count": 31,
   "id": "e1687e9d-f25e-4d01-b785-6b84067ebe1f",
   "metadata": {},
   "outputs": [
    {
     "name": "stdout",
     "output_type": "stream",
     "text": [
      "Type: torch.FloatTensor\n",
      "Shape/size: torch.Size([3, 3])\n",
      "Content\n",
      ": tensor([[0.3835, 0.7377, 0.0929],\n",
      "        [0.0109, 0.3814, 0.3462],\n",
      "        [0.5882, 0.5255, 0.2267]])\n"
     ]
    },
    {
     "ename": "RuntimeError",
     "evalue": "Expected all tensors to be on the same device, but found at least two devices, cuda:0 and cpu! (when checking argument for argument mat2 in method wrapper_CUDA_mm)",
     "output_type": "error",
     "traceback": [
      "\u001b[0;31m---------------------------------------------------------------------------\u001b[0m",
      "\u001b[0;31mRuntimeError\u001b[0m                              Traceback (most recent call last)",
      "Cell \u001b[0;32mIn[31], line 5\u001b[0m\n\u001b[1;32m      3\u001b[0m x2 \u001b[38;5;241m=\u001b[39m torch\u001b[38;5;241m.\u001b[39mrand(\u001b[38;5;241m3\u001b[39m,\u001b[38;5;241m3\u001b[39m)\n\u001b[1;32m      4\u001b[0m describe(x2)\n\u001b[0;32m----> 5\u001b[0m \u001b[43mtorch\u001b[49m\u001b[38;5;241;43m.\u001b[39;49m\u001b[43mmm\u001b[49m\u001b[43m(\u001b[49m\u001b[43mx\u001b[49m\u001b[43m,\u001b[49m\u001b[43m \u001b[49m\u001b[43mx2\u001b[49m\u001b[43m)\u001b[49m\n",
      "\u001b[0;31mRuntimeError\u001b[0m: Expected all tensors to be on the same device, but found at least two devices, cuda:0 and cpu! (when checking argument for argument mat2 in method wrapper_CUDA_mm)"
     ]
    }
   ],
   "source": [
    "# all tensors need to be on the same device to perform computation \n",
    "\n",
    "x2 = torch.rand(3,3)\n",
    "describe(x2)\n",
    "torch.mm(x, x2)"
   ]
  },
  {
   "cell_type": "code",
   "execution_count": 32,
   "id": "bfd4ac76-8035-421e-9f3e-8aec47ab7881",
   "metadata": {},
   "outputs": [
    {
     "name": "stdout",
     "output_type": "stream",
     "text": [
      "Type: torch.cuda.FloatTensor\n",
      "Shape/size: torch.Size([3, 3])\n",
      "Content\n",
      ": tensor([[0.5522, 0.0463, 0.4493],\n",
      "        [0.4603, 0.5436, 0.3300],\n",
      "        [0.5643, 0.2938, 0.4489]], device='cuda:0')\n"
     ]
    },
    {
     "data": {
      "text/plain": [
       "tensor([[0.6973, 0.5114, 0.5352],\n",
       "        [0.3862, 0.2449, 0.3008],\n",
       "        [0.8670, 0.6114, 0.6618]], device='cuda:0')"
      ]
     },
     "execution_count": 32,
     "metadata": {},
     "output_type": "execute_result"
    }
   ],
   "source": [
    "x2 = torch.rand(3,3).to(device)\n",
    "describe(x2)\n",
    "torch.mm(x, x2)"
   ]
  },
  {
   "cell_type": "markdown",
   "id": "334df727-999d-45ee-8839-45afeabb27d5",
   "metadata": {},
   "source": [
    "<b> \"Keep in mind that it is expensive to move data back and forth from the GPU. Therefore, the typical\n",
    "procedure involves doing many of the parallelizable computations on the GPU and then transferring\n",
    "just the final result back to the CPU.\" NLP with PyTorch book</b>"
   ]
  },
  {
   "cell_type": "markdown",
   "id": "65455f01-a720-48dc-ac80-d46833822b5d",
   "metadata": {},
   "source": [
    "#Excericies\n",
    "1. Create a 2D tensor and then add a dimension of size 1 inserted at dimension 0.\n",
    "2. Remove the extra dimension you just added to the previous tensor.\n",
    "3. Create a random tensor of shape 5x3 in the interval [3, 7)\n",
    "4. Create a tensor with values from a normal distribution (mean=0, std=1).\n",
    "5. Retrieve the indexes of all the nonzero elements in the tensor torch.Tensor([1, 1, 1,0, 1]).\n",
    "6. Create a random tensor of size (3,1) and then horizontally stack four copies together.\n",
    "7.  Return the batch matrixmatrix product of two threedimensional\n",
    "matrices\n",
    "(a=torch.rand(3,4,5), b=torch.rand(3,5,4)).\n",
    "8. Return the batch matrixmatrix\n",
    "product of a 3D matrix and a 2D matrix\n",
    "(a=torch.rand(3,4,5), b=torch.rand(5,4)).\n"
   ]
  },
  {
   "cell_type": "code",
   "execution_count": null,
   "id": "5c8a9e82-094d-458f-a96b-f065ae3d93c1",
   "metadata": {},
   "outputs": [],
   "source": []
  }
 ],
 "metadata": {
  "kernelspec": {
   "display_name": "Python 3 (ipykernel)",
   "language": "python",
   "name": "python3"
  },
  "language_info": {
   "codemirror_mode": {
    "name": "ipython",
    "version": 3
   },
   "file_extension": ".py",
   "mimetype": "text/x-python",
   "name": "python",
   "nbconvert_exporter": "python",
   "pygments_lexer": "ipython3",
   "version": "3.10.12"
  }
 },
 "nbformat": 4,
 "nbformat_minor": 5
}
