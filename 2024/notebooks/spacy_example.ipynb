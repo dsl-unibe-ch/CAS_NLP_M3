{
 "cells": [
  {
   "cell_type": "markdown",
   "id": "088d5380",
   "metadata": {},
   "source": [
    "# Natural language processing with spaCy"
   ]
  },
  {
   "cell_type": "code",
   "execution_count": null,
   "id": "5a8ff8b5",
   "metadata": {},
   "outputs": [],
   "source": [
    "import spacy\n",
    "\n",
    "# Load the English NLP model\n",
    "nlp = spacy.load(\"en_core_web_md\")\n",
    "\n",
    "# Sample text for processing\n",
    "text = \"Apple is looking at buying U.K. startup for $1 billion\"\n",
    "\n",
    "# The nlp object processes the text\n",
    "doc = nlp(text)"
   ]
  },
  {
   "cell_type": "code",
   "execution_count": null,
   "id": "21b3a84f",
   "metadata": {},
   "outputs": [],
   "source": [
    "# Tokenization\n",
    "# spaCy automatically tokenizes the text into words or tokens when we process the text through the nlp object\n",
    "print(\"Tokenization:\")\n",
    "for token in doc:\n",
    "    print(token.text)"
   ]
  },
  {
   "cell_type": "code",
   "execution_count": null,
   "id": "6fbdc34a",
   "metadata": {},
   "outputs": [],
   "source": [
    "# POS Tagging\n",
    "# Each token in \"doc\" has various attributes. Here, we use .pos_ to get the part-of-speech tag.\n",
    "print(\"\\nPart-of-Speech Tagging:\")\n",
    "for token in doc:\n",
    "    print(token.text, token.pos_)"
   ]
  },
  {
   "cell_type": "code",
   "execution_count": null,
   "id": "dc77d1ef",
   "metadata": {},
   "outputs": [],
   "source": [
    "# Lemmatization\n",
    "# Lemmatization is the process of reducing a word to its base form. spaCy provides the .lemma_ attribute.\n",
    "print(\"\\nLemmatization:\")\n",
    "for token in doc:\n",
    "    print(token.text, token.lemma_)"
   ]
  },
  {
   "cell_type": "code",
   "execution_count": null,
   "id": "cf2e9aaa",
   "metadata": {},
   "outputs": [],
   "source": [
    "# Named Entity Recognition (NER)\n",
    "# spaCy can recognize various types of named entities in a text, which can be accessed through .ents property.\n",
    "print(\"\\nNamed Entity Recognition:\")\n",
    "for ent in doc.ents:\n",
    "    print(ent.text, ent.label_)"
   ]
  },
  {
   "cell_type": "code",
   "execution_count": null,
   "id": "89d70c9f",
   "metadata": {},
   "outputs": [],
   "source": [
    "# Sentence Similarity\n",
    "# spaCy can compare two objects and predict similarity. \n",
    "# Note: Use a larger model for better accuracy at similarity predictions, such as \"en_core_web_md\" or \"en_core_web_lg\".\n",
    "print(\"\\nSentence Similarity:\")\n",
    "doc1 = nlp(\"I like salty fries and hamburgers.\")\n",
    "doc2 = nlp(\"Fast food tastes very good.\")\n",
    "similarity = doc1.similarity(doc2)\n",
    "print(\"Similarity between sentences:\", similarity)"
   ]
  },
  {
   "cell_type": "code",
   "execution_count": null,
   "id": "6b398a2b",
   "metadata": {},
   "outputs": [],
   "source": [
    "print(\"\\nSentence Similarity:\")\n",
    "doc1 = nlp(\"John gave Mary a gift.\")\n",
    "doc2 = nlp(\"John gave a gift to Mary.\")\n",
    "similarity = doc1.similarity(doc2)\n",
    "print(\"Similarity between sentences:\", similarity)"
   ]
  },
  {
   "cell_type": "code",
   "execution_count": null,
   "id": "bc54b8d1",
   "metadata": {},
   "outputs": [],
   "source": [
    "print(\"\\nSentence Similarity:\")\n",
    "doc1 = nlp(\"Yesterday was a really nice day.\")\n",
    "doc2 = nlp(\"Switzerland is located in the middle of Europe.\")\n",
    "similarity = doc1.similarity(doc2)\n",
    "print(\"Similarity between sentences:\", similarity)"
   ]
  },
  {
   "cell_type": "code",
   "execution_count": null,
   "id": "57d08c0f",
   "metadata": {},
   "outputs": [],
   "source": [
    "# Dependency Parsing\n",
    "# spaCy provides token dependency labels which can be used to understand the relationship between tokens.\n",
    "print(\"\\nDependency Parsing:\")\n",
    "for token in doc:\n",
    "    print(token.text, token.dep_, token.head.text)"
   ]
  },
  {
   "cell_type": "code",
   "execution_count": null,
   "id": "9a757670",
   "metadata": {},
   "outputs": [],
   "source": [
    "# Visualizing with displaCy\n",
    "# spaCy offers an excellent visualizer called displaCy. You can use it to visualize the dependency parse or named entities.\n",
    "from spacy import displacy\n",
    "\n",
    "print(\"\\nVisualizing Dependency Parse:\")\n",
    "displacy.render(doc, style=\"dep\", jupyter=True)"
   ]
  },
  {
   "cell_type": "code",
   "execution_count": null,
   "id": "cd2ede1b",
   "metadata": {},
   "outputs": [],
   "source": [
    "print(\"\\nVisualizing Named Entities:\")\n",
    "displacy.render(doc, style=\"ent\", jupyter=True)"
   ]
  },
  {
   "cell_type": "markdown",
   "id": "0912fc38",
   "metadata": {},
   "source": [
    "<b> There is much more that can be done with spaCy. Check the documentation https://spacy.io/ </b>"
   ]
  },
  {
   "cell_type": "code",
   "execution_count": null,
   "id": "399e2a74",
   "metadata": {},
   "outputs": [],
   "source": []
  }
 ],
 "metadata": {
  "kernelspec": {
   "display_name": "Python 3 (ipykernel)",
   "language": "python",
   "name": "python3"
  },
  "language_info": {
   "codemirror_mode": {
    "name": "ipython",
    "version": 3
   },
   "file_extension": ".py",
   "mimetype": "text/x-python",
   "name": "python",
   "nbconvert_exporter": "python",
   "pygments_lexer": "ipython3",
   "version": "3.10.12"
  }
 },
 "nbformat": 4,
 "nbformat_minor": 5
}
