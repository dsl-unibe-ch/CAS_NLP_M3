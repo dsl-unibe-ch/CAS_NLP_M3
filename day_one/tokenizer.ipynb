{
 "cells": [
  {
   "cell_type": "code",
   "execution_count": null,
   "id": "259bdbe9",
   "metadata": {
    "lines_to_next_cell": 1
   },
   "outputs": [],
   "source": [
    "import string"
   ]
  },
  {
   "cell_type": "code",
   "execution_count": null,
   "id": "f4c93a08",
   "metadata": {
    "lines_to_next_cell": 1
   },
   "outputs": [],
   "source": [
    "def tokenize_text(text):\n",
    "    # Rule 1: Replace every punctuation with whitespace then the punctuation\n",
    "    for punct in string.punctuation:\n",
    "        text = text.replace(punct, f' {punct}')\n",
    "    \n",
    "    # Rule 2: Replace every whitespace with new line character\n",
    "    text = text.replace(' ', '\\n')\n",
    "    \n",
    "    return text"
   ]
  },
  {
   "cell_type": "code",
   "execution_count": null,
   "id": "9967d779",
   "metadata": {
    "lines_to_next_cell": 1
   },
   "outputs": [],
   "source": [
    "def main():\n",
    "    # Read the text from the file\n",
    "    with open('english.txt', 'r') as file:\n",
    "        text = file.read()\n",
    "    \n",
    "    # Tokenize the text\n",
    "    tokenized_text = tokenize_text(text)\n",
    "    \n",
    "    # Write the tokenized text to a new file\n",
    "    with open('english_tokenized.txt', 'w') as file:\n",
    "        file.write(tokenized_text)"
   ]
  },
  {
   "cell_type": "code",
   "execution_count": null,
   "id": "3beb2880",
   "metadata": {},
   "outputs": [],
   "source": [
    "if __name__ == \"__main__\":\n",
    "    main()"
   ]
  }
 ],
 "metadata": {
  "jupytext": {
   "cell_metadata_filter": "-all",
   "main_language": "python",
   "notebook_metadata_filter": "-all"
  }
 },
 "nbformat": 4,
 "nbformat_minor": 5
}
