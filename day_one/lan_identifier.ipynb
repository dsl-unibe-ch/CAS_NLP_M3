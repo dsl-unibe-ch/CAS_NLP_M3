{
 "cells": [
  {
   "cell_type": "markdown",
   "id": "741b45a3",
   "metadata": {
    "lines_to_next_cell": 1
   },
   "source": [
    "<b>Rule-based language identifier for EN,DE and FR. The identifier splits text into bigrams and trigrams of letters and compares the results to a stored list of bigrams and trigrams of each language from a training data</b>"
   ]
  },
  {
   "cell_type": "code",
   "execution_count": null,
   "id": "15e50f5a",
   "metadata": {},
   "outputs": [],
   "source": [
    "from collections import Counter\n",
    "import re"
   ]
  },
  {
   "cell_type": "markdown",
   "id": "d3a69df2",
   "metadata": {},
   "source": [
    "<b>Helper function to extract n-gram from a given text</b>"
   ]
  },
  {
   "cell_type": "code",
   "execution_count": null,
   "id": "34beac34",
   "metadata": {
    "lines_to_next_cell": 1
   },
   "outputs": [],
   "source": [
    "def extract_ngrams(text, n):\n",
    "    \"\"\"\n",
    "    Extract n-grams from a given text.\n",
    "\n",
    "    Parameters:\n",
    "    - text (str): The input text from which n-grams are to be extracted.\n",
    "    - n (int): The size of the n-grams.\n",
    "\n",
    "    Returns:\n",
    "    - list of str: A list containing the n-grams.\n",
    "    \"\"\"\n",
    "    return [text[i:i+n] for i in range(len(text) - n + 1)]"
   ]
  },
  {
   "cell_type": "markdown",
   "id": "2766ba3f",
   "metadata": {},
   "source": [
    "<b>Function to get the top ngrams from a file. It get the top 100 by default. Try to adjust the number of n-grams (top 200 for example) and see if the accuray improves</b>"
   ]
  },
  {
   "cell_type": "code",
   "execution_count": null,
   "id": "6aa6455d",
   "metadata": {
    "lines_to_next_cell": 1
   },
   "outputs": [],
   "source": [
    "def get_top_ngrams(filename, n, top=100):\n",
    "    \"\"\"\n",
    "    Extract the top n-grams from a text file.\n",
    "\n",
    "    Parameters:\n",
    "    - filename (str): The path to the input text file.\n",
    "    - n (int): The size of the n-grams.\n",
    "    - top (int, optional): The number of top n-grams to return. Defaults to 100.\n",
    "\n",
    "    Returns:\n",
    "    - list of str: A list containing the top n-grams.\n",
    "    \"\"\"\n",
    "    with open(filename, 'r', encoding='utf-8') as f:\n",
    "        text = f.read().lower()\n",
    "        text = re.sub(r'[^a-z]', '', text)  # remove non-alphabetic characters\n",
    "        ngrams = extract_ngrams(text, n)\n",
    "        return [item[0] for item in Counter(ngrams).most_common(top)]\n"
   ]
  },
  {
   "cell_type": "markdown",
   "id": "de2d257f",
   "metadata": {},
   "source": [
    "<b>Function to take user input and a list of ngrams and calculate a score of matched ngrams in compared to the list of ngrams from a training corpus</b>"
   ]
  },
  {
   "cell_type": "code",
   "execution_count": null,
   "id": "d3d0eabd",
   "metadata": {
    "lines_to_next_cell": 1
   },
   "outputs": [],
   "source": [
    "def calculate_score(sentence, ngrams_list, n):\n",
    "    sentence_ngrams = extract_ngrams(sentence, n)\n",
    "    return sum([1 for ng in sentence_ngrams if ng in ngrams_list])"
   ]
  },
  {
   "cell_type": "markdown",
   "id": "c885b427",
   "metadata": {},
   "source": [
    "<b>Function to check the accuracy of the approach</b>"
   ]
  },
  {
   "cell_type": "code",
   "execution_count": null,
   "id": "05894317",
   "metadata": {
    "lines_to_next_cell": 1
   },
   "outputs": [],
   "source": [
    "def test_accuracy(filename):\n",
    "    en_bigram = get_top_ngrams('english.txt', 2)\n",
    "    en_trigram = get_top_ngrams('english.txt', 3)\n",
    "    de_bigram = get_top_ngrams('german.txt', 2)\n",
    "    de_trigram = get_top_ngrams('german.txt', 3)\n",
    "    fr_bigram = get_top_ngrams('french.txt', 2)\n",
    "    fr_trigram = get_top_ngrams('french.txt', 3)\n",
    "\n",
    "    correct_predictions = 0\n",
    "    total_sentences = 0\n",
    "\n",
    "    with open(filename, 'r') as f:\n",
    "        for line in f:\n",
    "            sentence, actual_language = line.strip().rsplit(',', 1)\n",
    "            sentence = sentence.lower()\n",
    "            sentence = re.sub(r'[^a-z]', '', sentence)  # remove non-alphabetic characters\n",
    "\n",
    "            en_score = calculate_score(sentence, en_bigram, 2) + calculate_score(sentence, en_trigram, 3)\n",
    "            de_score = calculate_score(sentence, de_bigram, 2) + calculate_score(sentence, de_trigram, 3)\n",
    "            fr_score = calculate_score(sentence, fr_bigram, 2) + calculate_score(sentence, fr_trigram, 3)\n",
    "\n",
    "            scores = {'en': en_score, 'de': de_score, 'fr': fr_score}\n",
    "            detected_language = max(scores, key=scores.get)\n",
    "\n",
    "            if detected_language == actual_language:\n",
    "                correct_predictions += 1\n",
    "            total_sentences += 1\n",
    "\n",
    "    accuracy = correct_predictions / total_sentences\n",
    "    print(f\"Accuracy: {accuracy:.2f}\")"
   ]
  },
  {
   "cell_type": "code",
   "execution_count": null,
   "id": "33b4e76e",
   "metadata": {
    "lines_to_next_cell": 1
   },
   "outputs": [],
   "source": [
    "def main():\n",
    "    test_accuracy('sentences.txt')\n",
    "    en_bigram = get_top_ngrams('english.txt', 2)\n",
    "    en_trigram = get_top_ngrams('english.txt', 3)\n",
    "    de_bigram = get_top_ngrams('german.txt', 2)\n",
    "    de_trigram = get_top_ngrams('german.txt', 3)\n",
    "    fr_bigram = get_top_ngrams('french.txt', 2)\n",
    "    fr_trigram = get_top_ngrams('french.txt', 3)\n",
    "\n",
    "    while True:\n",
    "        sentence = input(\"Enter a sentence (or 'exit' to quit): \").lower()\n",
    "        if sentence == 'exit':\n",
    "            break\n",
    "\n",
    "        sentence = re.sub(r'[^a-z]', '', sentence)  # remove non-alphabetic characters\n",
    "\n",
    "        en_score = calculate_score(sentence, en_bigram, 2) + calculate_score(sentence, en_trigram, 3)\n",
    "        de_score = calculate_score(sentence, de_bigram, 2) + calculate_score(sentence, de_trigram, 3)\n",
    "        fr_score = calculate_score(sentence, fr_bigram, 2) + calculate_score(sentence, fr_trigram, 3)\n",
    "\n",
    "        scores = {'English': en_score, 'German': de_score, 'French': fr_score}\n",
    "        detected_language = max(scores, key=scores.get)\n",
    "\n",
    "        print(f\"The detected language is: {detected_language}\")\n",
    "        print(scores)"
   ]
  },
  {
   "cell_type": "code",
   "execution_count": null,
   "id": "a9c2202b",
   "metadata": {},
   "outputs": [],
   "source": [
    "if __name__ == \"__main__\":\n",
    "    main()"
   ]
  },
  {
   "cell_type": "code",
   "execution_count": null,
   "id": "473d05ed",
   "metadata": {},
   "outputs": [],
   "source": []
  }
 ],
 "metadata": {
  "jupytext": {
   "cell_metadata_filter": "-all",
   "main_language": "python",
   "notebook_metadata_filter": "-all"
  },
  "kernelspec": {
   "display_name": "Python 3 (ipykernel)",
   "language": "python",
   "name": "python3"
  },
  "language_info": {
   "codemirror_mode": {
    "name": "ipython",
    "version": 3
   },
   "file_extension": ".py",
   "mimetype": "text/x-python",
   "name": "python",
   "nbconvert_exporter": "python",
   "pygments_lexer": "ipython3",
   "version": "3.10.11"
  }
 },
 "nbformat": 4,
 "nbformat_minor": 5
}
