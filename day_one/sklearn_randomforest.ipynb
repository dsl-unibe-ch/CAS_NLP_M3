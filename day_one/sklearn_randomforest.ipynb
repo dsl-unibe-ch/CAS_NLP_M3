{
 "cells": [
  {
   "cell_type": "markdown",
   "id": "17fd2a1d",
   "metadata": {},
   "source": [
    "<b>Example script to denmonstrate the process of using sklearn for training a classifier for sentiment analysis.\n",
    "This script also shows how to compact processes into a pipeline</b>"
   ]
  },
  {
   "cell_type": "code",
   "execution_count": null,
   "id": "28784fb2",
   "metadata": {},
   "outputs": [],
   "source": [
    "# import the neeeded models\n",
    "import pandas as pd\n",
    "from sklearn.model_selection import train_test_split\n",
    "from sklearn.feature_extraction.text import TfidfVectorizer\n",
    "from sklearn.ensemble import RandomForestClassifier\n",
    "from sklearn.metrics import accuracy_score, classification_report\n",
    "from sklearn.pipeline import Pipeline\n",
    "import joblib"
   ]
  },
  {
   "cell_type": "markdown",
   "id": "9a55d7c2",
   "metadata": {},
   "source": [
    "<b>The dataset is the IBDM reviews of movies. It is available for free on https://www.kaggle.com/datasets/lakshmi25npathi/imdb-dataset-of-50k-movie-reviews\n",
    "The data is converted into a json format:\n",
    "[\n",
    "  {\n",
    "    \"text\": \".....\"\n",
    "    \"label\": \"positive\" or \"negative\"\n",
    "   },\n",
    "   .............\n",
    "]\n",
    "    </b>"
   ]
  },
  {
   "cell_type": "code",
   "execution_count": null,
   "id": "cdf10248",
   "metadata": {},
   "outputs": [],
   "source": [
    "# Load the data from the JSON file\n",
    "with open('train_data.json', 'r') as file:\n",
    "    data = pd.read_json(file)\n",
    "    \n",
    "# Use only 4400 examples (4000 for training and 400 for testing)\n",
    "data = data.sample(4400, random_state=42)\n",
    "print(data.head())"
   ]
  },
  {
   "cell_type": "markdown",
   "id": "de0e8868",
   "metadata": {},
   "source": [
    "<b>use sklearn \"train_test_split\" to split the data </b>"
   ]
  },
  {
   "cell_type": "code",
   "execution_count": null,
   "id": "73e86e93",
   "metadata": {},
   "outputs": [],
   "source": [
    "# Split data into training and testing sets\n",
    "X_train, X_test, y_train, y_test = train_test_split(data['text'], data['label'], test_size=400, random_state=42)"
   ]
  },
  {
   "cell_type": "markdown",
   "id": "9b3117aa",
   "metadata": {},
   "source": [
    "<b>We use TF-IDF implementation in sklearn to vectorize the data\n",
    "check also:</b>\n",
    "```python\n",
    "from sklearn.feature_extraction.text import CountVectorizer\n",
    "from sklearn.feature_extraction.text import HashingVectorizer\n",
    "```"
   ]
  },
  {
   "cell_type": "code",
   "execution_count": null,
   "id": "0bbfff43",
   "metadata": {},
   "outputs": [],
   "source": [
    "# Convert text data into numerical vectors using TF-IDF\n",
    "vectorizer = TfidfVectorizer(stop_words='english')\n",
    "X_train_vec = vectorizer.fit_transform(X_train)\n",
    "X_test_vec = vectorizer.transform(X_test)"
   ]
  },
  {
   "cell_type": "markdown",
   "id": "13196c5c",
   "metadata": {},
   "source": [
    "<b>Use the random forest classifier. More details on https://scikit-learn.org/stable/modules/generated/sklearn.ensemble.RandomForestClassifier.html</b>"
   ]
  },
  {
   "cell_type": "code",
   "execution_count": null,
   "id": "06e2cce7",
   "metadata": {},
   "outputs": [],
   "source": [
    "# Train a Random Forest classifier\n",
    "clf = RandomForestClassifier(n_estimators=100, random_state=42)\n",
    "clf.fit(X_train_vec, y_train)"
   ]
  },
  {
   "cell_type": "code",
   "execution_count": null,
   "id": "07e686f4",
   "metadata": {},
   "outputs": [],
   "source": [
    "# Predict on the test set\n",
    "y_pred = clf.predict(X_test_vec)"
   ]
  },
  {
   "cell_type": "code",
   "execution_count": null,
   "id": "dc85c24c",
   "metadata": {},
   "outputs": [],
   "source": [
    "# Evaluate the model\n",
    "print(\"Accuracy:\", accuracy_score(y_test, y_pred))\n",
    "print(\"\\nClassification Report:\\n\", classification_report(y_test, y_pred))"
   ]
  },
  {
   "cell_type": "code",
   "execution_count": null,
   "id": "fd53f2b2",
   "metadata": {},
   "outputs": [],
   "source": [
    "# Save the trained model and vectorizer\n",
    "joblib.dump(clf, 'random_forest_model.pkl')\n",
    "joblib.dump(vectorizer, 'tfidf_vectorizer.pkl')"
   ]
  },
  {
   "cell_type": "code",
   "execution_count": null,
   "id": "d9209d10",
   "metadata": {},
   "outputs": [],
   "source": [
    "# Load the saved model and vectorizer\n",
    "clf = joblib.load('random_forest_model.pkl')\n",
    "vectorizer = joblib.load('tfidf_vectorizer.pkl')"
   ]
  },
  {
   "cell_type": "code",
   "execution_count": null,
   "id": "1a32168e",
   "metadata": {},
   "outputs": [],
   "source": [
    "# Take user input and classify\n",
    "while True:\n",
    "    user_input = input(\"\\nEnter a sentence to classify (or type 'exit' to quit): \")\n",
    "    if user_input.lower() == 'exit':\n",
    "        break\n",
    "    user_input_vec = vectorizer.transform([user_input])\n",
    "    prediction = clf.predict(user_input_vec)\n",
    "    print(f\"Predicted sentiment: {prediction[0]}\")"
   ]
  },
  {
   "cell_type": "markdown",
   "id": "7a3c6146",
   "metadata": {},
   "source": [
    "<b>Let's try the same procedure but with using pipeline</b>"
   ]
  },
  {
   "cell_type": "code",
   "execution_count": null,
   "id": "533a369c",
   "metadata": {},
   "outputs": [],
   "source": [
    "# Create a pipeline with a TfidfVectorizer and RandomForestClassifier\n",
    "pipeline = Pipeline([\n",
    "    ('tfidf', TfidfVectorizer(stop_words='english')),\n",
    "    ('clf', RandomForestClassifier(n_estimators=100, random_state=42))\n",
    "])"
   ]
  },
  {
   "cell_type": "code",
   "execution_count": null,
   "id": "2e82b650",
   "metadata": {},
   "outputs": [],
   "source": [
    "# Train the pipeline on the training data\n",
    "pipeline.fit(X_train, y_train)"
   ]
  },
  {
   "cell_type": "code",
   "execution_count": null,
   "id": "22456daf",
   "metadata": {},
   "outputs": [],
   "source": [
    "# Predict on the test set\n",
    "y_pred = pipeline.predict(X_test)\n",
    "\n",
    "# Evaluate the model\n",
    "print(\"Accuracy:\", accuracy_score(y_test, y_pred))\n",
    "print(\"\\nClassification Report:\\n\", classification_report(y_test, y_pred))"
   ]
  },
  {
   "cell_type": "code",
   "execution_count": null,
   "id": "178f8f29",
   "metadata": {},
   "outputs": [],
   "source": [
    "# Save the trained pipeline\n",
    "joblib.dump(pipeline, 'text_classification_pipeline.pkl')\n",
    "\n",
    "# Load the saved pipeline\n",
    "pipeline = joblib.load('text_classification_pipeline.pkl')"
   ]
  },
  {
   "cell_type": "code",
   "execution_count": null,
   "id": "b1eb048e",
   "metadata": {},
   "outputs": [],
   "source": [
    "# Take user input and classify\n",
    "while True:\n",
    "    user_input = input(\"\\nEnter a sentence to classify (or type 'exit' to quit): \")\n",
    "    if user_input.lower() == 'exit':\n",
    "        break\n",
    "    prediction = pipeline.predict([user_input])\n",
    "    print(f\"Predicted sentiment: {prediction[0]}\")"
   ]
  },
  {
   "cell_type": "code",
   "execution_count": null,
   "id": "1ba4db97",
   "metadata": {},
   "outputs": [],
   "source": []
  }
 ],
 "metadata": {
  "jupytext": {
   "cell_metadata_filter": "-all",
   "main_language": "python",
   "notebook_metadata_filter": "-all"
  },
  "kernelspec": {
   "display_name": "Python 3 (ipykernel)",
   "language": "python",
   "name": "python3"
  },
  "language_info": {
   "codemirror_mode": {
    "name": "ipython",
    "version": 3
   },
   "file_extension": ".py",
   "mimetype": "text/x-python",
   "name": "python",
   "nbconvert_exporter": "python",
   "pygments_lexer": "ipython3",
   "version": "3.10.11"
  }
 },
 "nbformat": 4,
 "nbformat_minor": 5
}
