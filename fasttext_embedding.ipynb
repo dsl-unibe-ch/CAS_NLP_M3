{
 "cells": [
  {
   "cell_type": "markdown",
   "id": "987f861c",
   "metadata": {},
   "source": [
    "<b> Code example of using the Fasttext library. For more details consult the documentaion </b> https://fasttext.cc/docs/en/support.html"
   ]
  },
  {
   "cell_type": "code",
   "execution_count": null,
   "id": "c8409b49",
   "metadata": {},
   "outputs": [],
   "source": [
    "import fasttext\n",
    "import pprint\n",
    "import inspect"
   ]
  },
  {
   "cell_type": "markdown",
   "id": "6afc4ab7",
   "metadata": {},
   "source": [
    "<b> Fasttext.train_supervised takes txt file as input and has good default arguments. you can change the paramenters as you see in the example. The output is a model object which can produce word vector and get neighbor words.\n",
    "Check out supervised training of fasttext</b>"
   ]
  },
  {
   "cell_type": "code",
   "execution_count": null,
   "id": "c42d2519",
   "metadata": {},
   "outputs": [],
   "source": [
    "# training is very simple and on high level. We try with the default settings\n",
    "model = fasttext.train_unsupervised('data/training_data.txt', model='skipgram')\n",
    "#playing with the parameters\n",
    "#model = fasttext.train_unsupervised('data/training_data.txt', model='skipgram', \n",
    "#                                    minn=2, maxn=5, dim=300, epoch=1, lr=0.5, thread=4)\n",
    "# default values (\"dim=100\": controls the number of dimensions of a vector) \"100-300 range is popular\"\n",
    "#                 (\"minn=2\": The subwords are all the substrings contained in a word between the minimum size \n",
    "#                  (minn) and the maximal size (maxn).) default between 3 and 6\n",
    "#                  (epoch=1: default 5)\n",
    "#                   (lr=0.5: default value is 0.05) \"the faster the model converge to a solution \n",
    "#                    but at the risk of overfitting to the dataset\"\n",
    "#                   (\"thread=4\" default=12) fastText is multi-threaded and uses 12 threads by default. \n",
    "#                    If you have less CPU cores (say 4), you can easily set the number of threads using the thread flag"
   ]
  },
  {
   "cell_type": "code",
   "execution_count": null,
   "id": "9b7a821f",
   "metadata": {},
   "outputs": [],
   "source": [
    "# let's find out what we can do with the model object [what methods and attributes it has]\n",
    "methods_attr = [item for item in dir(model) if not item.startswith(\"_\")]\n",
    "pprint.pprint(methods_attr)"
   ]
  },
  {
   "cell_type": "code",
   "execution_count": null,
   "id": "32c3f98b",
   "metadata": {},
   "outputs": [],
   "source": [
    "# Separate methods and attributes\n",
    "methods = [item for item in methods_attr if inspect.ismethod(getattr(model, item))]\n",
    "attributes = [item for item in methods_attr if not inspect.ismethod(getattr(model, item))]\n",
    "\n",
    "# Pretty print the methods and attributes\n",
    "pprint.pprint(f\"Methods: {methods}\")\n",
    "pprint.pprint(f\"Attributes: {attributes}\")"
   ]
  },
  {
   "cell_type": "code",
   "execution_count": null,
   "id": "b08da27e",
   "metadata": {},
   "outputs": [],
   "source": [
    "# let's get info on the arguments of some of the methods\n",
    "print(inspect.signature(model.get_dimension))\n",
    "print(inspect.signature(model.get_analogies))\n",
    "print(inspect.signature(model.get_subwords))"
   ]
  },
  {
   "cell_type": "code",
   "execution_count": null,
   "id": "e11ec7af",
   "metadata": {},
   "outputs": [],
   "source": [
    "model.get_word_vector(\"father\")"
   ]
  },
  {
   "cell_type": "code",
   "execution_count": null,
   "id": "eda9a9ed",
   "metadata": {},
   "outputs": [],
   "source": [
    "model.get_nearest_neighbors(\"father\")"
   ]
  },
  {
   "cell_type": "code",
   "execution_count": null,
   "id": "05bd6935",
   "metadata": {},
   "outputs": [],
   "source": [
    "model.get_subwords(\"university\")"
   ]
  },
  {
   "cell_type": "code",
   "execution_count": null,
   "id": "8f650b86",
   "metadata": {},
   "outputs": [],
   "source": [
    "model.get_analogies(\"father\", \"mother\", \"daughter\", k=1)"
   ]
  },
  {
   "cell_type": "code",
   "execution_count": null,
   "id": "06c22379",
   "metadata": {},
   "outputs": [],
   "source": [
    "model.get_analogies(\"Berlin\", \"Germany\", \"France\", k=1)"
   ]
  },
  {
   "cell_type": "code",
   "execution_count": null,
   "id": "6dacb810",
   "metadata": {},
   "outputs": [],
   "source": [
    "#save the model\n",
    "model.save_model(\"embedding_1m_word.bin\")"
   ]
  },
  {
   "cell_type": "markdown",
   "id": "ee2799ee",
   "metadata": {},
   "source": [
    "<b> let's try a pretrained model that is much larger.\n",
    "Please note that it might not load on your memory</b>"
   ]
  },
  {
   "cell_type": "code",
   "execution_count": null,
   "id": "38c8a83b",
   "metadata": {},
   "outputs": [],
   "source": [
    "#download pretrained model\n",
    "import fasttext.util"
   ]
  },
  {
   "cell_type": "code",
   "execution_count": null,
   "id": "e4fdb7a7",
   "metadata": {},
   "outputs": [],
   "source": [
    "#fasttext.util.download_model('en', if_exists='ignore')\n",
    "lg_model = fasttext.load_model('embedding_1m_word.bin')"
   ]
  },
  {
   "cell_type": "code",
   "execution_count": null,
   "id": "ffca104e",
   "metadata": {},
   "outputs": [],
   "source": [
    "lg_model.get_nearest_neighbors('father')"
   ]
  },
  {
   "cell_type": "code",
   "execution_count": null,
   "id": "29408651",
   "metadata": {},
   "outputs": [],
   "source": [
    "lg_model.get_analogies(\"Berlin\", \"Germany\", \"France\", k=1)"
   ]
  },
  {
   "cell_type": "code",
   "execution_count": null,
   "id": "c3e5f254",
   "metadata": {},
   "outputs": [],
   "source": [
    "lg_model.get_analogies(\"father\", \"mother\", \"daughter\", k=1)"
   ]
  },
  {
   "cell_type": "code",
   "execution_count": null,
   "id": "ffa542a1",
   "metadata": {},
   "outputs": [],
   "source": [
    "del lg_model"
   ]
  },
  {
   "cell_type": "markdown",
   "id": "0d91aae0",
   "metadata": {},
   "source": [
    "<b> Let's try to use the model we trained instead of the tf-idf we used previously with the random forest classifier </b>"
   ]
  },
  {
   "cell_type": "code",
   "execution_count": null,
   "id": "7ff71a37",
   "metadata": {},
   "outputs": [],
   "source": [
    "import pandas as pd\n",
    "from sklearn.model_selection import train_test_split\n",
    "from sklearn.ensemble import RandomForestClassifier\n",
    "from sklearn.metrics import accuracy_score, classification_report\n",
    "import fasttext\n",
    "import numpy as np\n",
    "import joblib"
   ]
  },
  {
   "cell_type": "code",
   "execution_count": null,
   "id": "ddeda2c1",
   "metadata": {},
   "outputs": [],
   "source": [
    "# Load the data from the JSON file\n",
    "with open('train_data.json', 'r') as file:\n",
    "    data = pd.read_json(file)\n",
    "\n",
    "# Use only 4400 examples (4000 for training and 400 for testing)\n",
    "data = data.sample(4400, random_state=42)\n",
    "del file"
   ]
  },
  {
   "cell_type": "code",
   "execution_count": null,
   "id": "65406689",
   "metadata": {},
   "outputs": [],
   "source": [
    "# Split data into training and testing sets\n",
    "X_train, X_test, y_train, y_test = train_test_split(data['text'], data['label'], test_size=400, random_state=42)\n",
    "\n",
    "# Load the FastText model\n",
    "model = fasttext.load_model(\"cc.en.300.bin\")"
   ]
  },
  {
   "cell_type": "code",
   "execution_count": null,
   "id": "ad60d828",
   "metadata": {},
   "outputs": [],
   "source": [
    "# Function to vectorize text using FastText\n",
    "def vectorize_text(texts):\n",
    "    vectorized_texts = []\n",
    "    for text in texts:\n",
    "        words = text.split()\n",
    "        word_vectors = [model.get_word_vector(word) for word in words]\n",
    "        text_vector = np.mean(word_vectors, axis=0)\n",
    "        vectorized_texts.append(text_vector)\n",
    "    return np.vstack(vectorized_texts)"
   ]
  },
  {
   "cell_type": "code",
   "execution_count": null,
   "id": "6a28e2e7",
   "metadata": {},
   "outputs": [],
   "source": [
    "# Vectorize the training and testing text data\n",
    "X_train_vec = vectorize_text(X_train)\n",
    "X_test_vec = vectorize_text(X_test)"
   ]
  },
  {
   "cell_type": "code",
   "execution_count": null,
   "id": "62ef9c1f",
   "metadata": {},
   "outputs": [],
   "source": [
    "# Train a Random Forest classifier\n",
    "clf = RandomForestClassifier(n_estimators=100, random_state=42)\n",
    "clf.fit(X_train_vec, y_train)"
   ]
  },
  {
   "cell_type": "code",
   "execution_count": null,
   "id": "949fce17",
   "metadata": {},
   "outputs": [],
   "source": [
    "# Predict on the test set\n",
    "y_pred = clf.predict(X_test_vec)"
   ]
  },
  {
   "cell_type": "code",
   "execution_count": null,
   "id": "fbaa185a",
   "metadata": {},
   "outputs": [],
   "source": [
    "# Evaluate the model\n",
    "print(\"Accuracy:\", accuracy_score(y_test, y_pred))\n",
    "print(\"\\nClassification Report:\\n\", classification_report(y_test, y_pred))"
   ]
  },
  {
   "cell_type": "code",
   "execution_count": null,
   "id": "36d7fe14",
   "metadata": {},
   "outputs": [],
   "source": []
  }
 ],
 "metadata": {
  "kernelspec": {
   "display_name": "Python 3 (ipykernel)",
   "language": "python",
   "name": "python3"
  },
  "language_info": {
   "codemirror_mode": {
    "name": "ipython",
    "version": 3
   },
   "file_extension": ".py",
   "mimetype": "text/x-python",
   "name": "python",
   "nbconvert_exporter": "python",
   "pygments_lexer": "ipython3",
   "version": "3.10.12"
  }
 },
 "nbformat": 4,
 "nbformat_minor": 5
}
